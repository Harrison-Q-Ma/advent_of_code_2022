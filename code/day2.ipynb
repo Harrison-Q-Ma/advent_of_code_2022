{
 "cells": [
  {
   "cell_type": "markdown",
   "metadata": {},
   "source": [
    "# Part 1"
   ]
  },
  {
   "cell_type": "code",
   "execution_count": 1,
   "metadata": {},
   "outputs": [],
   "source": [
    "def transform_input(input):\n",
    "    if input == 'A' or input == 'X':\n",
    "        return 'Rock'\n",
    "    elif input == 'B' or input == 'Y': \n",
    "        return 'Paper'\n",
    "    else: \n",
    "        return 'Scissors' "
   ]
  },
  {
   "cell_type": "code",
   "execution_count": 23,
   "metadata": {},
   "outputs": [],
   "source": [
    "# A for Rock, B for Paper, and C for Scissors\n",
    "# X for Rock, Y for Paper, and Z for Scissors\n",
    "\n",
    "def rps(in1, in2): \n",
    "    in1 = transform_input(in1) \n",
    "    in2 = transform_input(in2) \n",
    "    # print((in1,in2))\n",
    "\n",
    "    if in2 == 'Rock': \n",
    "        score = 1 \n",
    "    elif in2 == 'Paper':\n",
    "        score = 2 \n",
    "    else: \n",
    "        score = 3\n",
    "\n",
    "    if in1 == in2: \n",
    "        return 3 + score\n",
    "    elif (in1 == 'Rock' and in2 == 'Scissors') or (in1 == 'Scissors' and in2 == 'Paper') or (in1 == 'Paper' and in2 == 'Rock'):\n",
    "        return 0 + score\n",
    "    else: \n",
    "        return 6 + score"
   ]
  },
  {
   "cell_type": "code",
   "execution_count": 26,
   "metadata": {},
   "outputs": [
    {
     "name": "stdout",
     "output_type": "stream",
     "text": [
      "13009\n"
     ]
    }
   ],
   "source": [
    "f = open(\"day2_input.txt\", \"r\")\n",
    "score = 0\n",
    "for line in f.readlines(): \n",
    "    # print(line)\n",
    "    curr = rps(line[0], line[2])\n",
    "    # print(curr)\n",
    "    score += curr\n",
    "    \n",
    "print(score) "
   ]
  },
  {
   "cell_type": "markdown",
   "metadata": {},
   "source": [
    "# Part 2 "
   ]
  },
  {
   "cell_type": "code",
   "execution_count": 27,
   "metadata": {},
   "outputs": [],
   "source": [
    "# X means you need to lose, \n",
    "# Y means you need to end the round in a draw \n",
    "# Z means you need to win \n",
    "\n",
    "def determine_strat(in1,in2):\n",
    "    in1 = transform_input(in1) \n",
    "    if in2 == 'Y':\n",
    "        return in1 \n",
    "    elif in2 == 'X': \n",
    "        if in1 == 'Rock':\n",
    "            return 'Scissors'\n",
    "        elif in1 == 'Paper':\n",
    "            return 'Rock'\n",
    "        else: \n",
    "            return 'Paper' \n",
    "    else:\n",
    "        if in1 == 'Rock':\n",
    "            return 'Paper'\n",
    "        elif in1 == 'Paper':\n",
    "            return 'Scissors'\n",
    "        else: \n",
    "            return 'Rock'"
   ]
  },
  {
   "cell_type": "code",
   "execution_count": 28,
   "metadata": {},
   "outputs": [],
   "source": [
    "def rps(in1, in2): \n",
    "    in2 = determine_strat(in1, in2)\n",
    "    in1 = transform_input(in1)\n",
    "\n",
    "    # in1 = transform_input(in1) \n",
    "    # in2 = transform_input(in2) \n",
    "    # print((in1,in2))\n",
    "\n",
    "    if in2 == 'Rock': \n",
    "        score = 1 \n",
    "    elif in2 == 'Paper':\n",
    "        score = 2 \n",
    "    else: \n",
    "        score = 3\n",
    "\n",
    "    if in1 == in2: \n",
    "        return 3 + score\n",
    "    elif (in1 == 'Rock' and in2 == 'Scissors') or (in1 == 'Scissors' and in2 == 'Paper') or (in1 == 'Paper' and in2 == 'Rock'):\n",
    "        return 0 + score\n",
    "    else: \n",
    "        return 6 + score"
   ]
  },
  {
   "cell_type": "code",
   "execution_count": 29,
   "metadata": {},
   "outputs": [
    {
     "name": "stdout",
     "output_type": "stream",
     "text": [
      "10398\n"
     ]
    }
   ],
   "source": [
    "f = open(\"day2_input.txt\", \"r\")\n",
    "score = 0\n",
    "for line in f.readlines(): \n",
    "    # print(line)\n",
    "    curr = rps(line[0], line[2])\n",
    "    # print(curr)\n",
    "    score += curr\n",
    "    \n",
    "print(score) "
   ]
  },
  {
   "cell_type": "code",
   "execution_count": null,
   "metadata": {},
   "outputs": [],
   "source": []
  }
 ],
 "metadata": {
  "kernelspec": {
   "display_name": "Python 3.10.4 64-bit",
   "language": "python",
   "name": "python3"
  },
  "language_info": {
   "codemirror_mode": {
    "name": "ipython",
    "version": 3
   },
   "file_extension": ".py",
   "mimetype": "text/x-python",
   "name": "python",
   "nbconvert_exporter": "python",
   "pygments_lexer": "ipython3",
   "version": "3.10.4"
  },
  "orig_nbformat": 4,
  "vscode": {
   "interpreter": {
    "hash": "aee8b7b246df8f9039afb4144a1f6fd8d2ca17a180786b69acc140d282b71a49"
   }
  }
 },
 "nbformat": 4,
 "nbformat_minor": 2
}
