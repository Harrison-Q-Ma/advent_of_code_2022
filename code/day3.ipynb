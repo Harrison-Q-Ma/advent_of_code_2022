{
 "cells": [
  {
   "cell_type": "markdown",
   "metadata": {},
   "source": [
    "# Part 1"
   ]
  },
  {
   "cell_type": "code",
   "execution_count": 11,
   "metadata": {},
   "outputs": [],
   "source": [
    "def letter_to_num(letter): \n",
    "    # assign a-z as 1-26\n",
    "    # assign A-Z as 27-52\n",
    "    num = ord(letter)\n",
    "    if num >= 97:\n",
    "        return num - 96\n",
    "    else:\n",
    "        return num - 38"
   ]
  },
  {
   "cell_type": "code",
   "execution_count": 22,
   "metadata": {},
   "outputs": [
    {
     "name": "stdout",
     "output_type": "stream",
     "text": [
      "8039\n"
     ]
    }
   ],
   "source": [
    "f = open(\"../input/day3_input.txt\", \"r\")\n",
    "score = 0\n",
    "for line in f.readlines(): \n",
    "    # split string in half\n",
    "    first_half = line[:len(line)//2]\n",
    "    second_half = line[len(line)//2:]\n",
    "    # convert string to list of characters\n",
    "    first_half = set(first_half)\n",
    "    second_half = set(second_half)\n",
    "    common = list(first_half.intersection(second_half))[0]\n",
    "    score += letter_to_num(common)\n",
    "print(score)"
   ]
  },
  {
   "cell_type": "markdown",
   "metadata": {},
   "source": [
    "# Part 2"
   ]
  },
  {
   "cell_type": "code",
   "execution_count": 82,
   "metadata": {},
   "outputs": [
    {
     "name": "stdout",
     "output_type": "stream",
     "text": [
      "2510\n"
     ]
    }
   ],
   "source": [
    "f = open(\"../input/day3_input.txt\", \"r\")\n",
    "score = 0\n",
    "\n",
    "arr = f.readlines()\n",
    "\n",
    "for i in range(0, len(arr),3): \n",
    "    curr = []\n",
    "    curr.append(arr[i])\n",
    "    curr.append(arr[i+1])\n",
    "    curr.append(arr[i+2])\n",
    "    \n",
    "    # find intersection of all three\n",
    "    first = set(curr[0][:-1])\n",
    "    second = set(curr[1][:-1])\n",
    "    third = set(curr[2][:-1])\n",
    "    # find common character among 3 sets \n",
    "    common_1 = first.intersection(second)\n",
    "    common_2 = common_1.intersection(third)\n",
    "    common = list(common_2)[0]\n",
    "    \n",
    "    score += letter_to_num(common)\n",
    "\n",
    "print(score)"
   ]
  },
  {
   "cell_type": "code",
   "execution_count": null,
   "metadata": {},
   "outputs": [],
   "source": []
  }
 ],
 "metadata": {
  "kernelspec": {
   "display_name": "Python 3.10.4 64-bit",
   "language": "python",
   "name": "python3"
  },
  "language_info": {
   "codemirror_mode": {
    "name": "ipython",
    "version": 3
   },
   "file_extension": ".py",
   "mimetype": "text/x-python",
   "name": "python",
   "nbconvert_exporter": "python",
   "pygments_lexer": "ipython3",
   "version": "3.10.4"
  },
  "orig_nbformat": 4,
  "vscode": {
   "interpreter": {
    "hash": "aee8b7b246df8f9039afb4144a1f6fd8d2ca17a180786b69acc140d282b71a49"
   }
  }
 },
 "nbformat": 4,
 "nbformat_minor": 2
}
