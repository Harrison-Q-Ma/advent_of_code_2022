{
 "cells": [
  {
   "cell_type": "markdown",
   "metadata": {},
   "source": [
    "# Part 1 "
   ]
  },
  {
   "cell_type": "code",
   "execution_count": 20,
   "metadata": {},
   "outputs": [
    {
     "name": "stdout",
     "output_type": "stream",
     "text": [
      "562\n"
     ]
    }
   ],
   "source": [
    "with open('../input/day4_input.txt') as f:\n",
    "    mylist = f.read().splitlines() \n",
    "\n",
    "count = 0\n",
    "for pair in mylist: \n",
    "    split_pair = pair.split(',')\n",
    "    split_pair = list(map(lambda x: x.split('-'),split_pair))\n",
    "\n",
    "    list1 = list(range(int(split_pair[0][0]),int(split_pair[0][1])+1))\n",
    "    list2 = list(range(int(split_pair[1][0]),int(split_pair[1][1])+1))\n",
    "\n",
    "    if set(list1) <= set(list2):\n",
    "        count += 1\n",
    "    elif set(list2) <= set(list1):\n",
    "        count += 1\n",
    "\n",
    "print(count)"
   ]
  },
  {
   "cell_type": "markdown",
   "metadata": {},
   "source": [
    "# Part 2 "
   ]
  },
  {
   "cell_type": "code",
   "execution_count": 21,
   "metadata": {},
   "outputs": [
    {
     "name": "stdout",
     "output_type": "stream",
     "text": [
      "924\n"
     ]
    }
   ],
   "source": [
    "with open('../input/day4_input.txt') as f:\n",
    "    mylist = f.read().splitlines() \n",
    "\n",
    "count = 0\n",
    "for pair in mylist: \n",
    "    split_pair = pair.split(',')\n",
    "    split_pair = list(map(lambda x: x.split('-'),split_pair))\n",
    "\n",
    "    list1 = list(range(int(split_pair[0][0]),int(split_pair[0][1])+1))\n",
    "    list2 = list(range(int(split_pair[1][0]),int(split_pair[1][1])+1))\n",
    "\n",
    "    if set(list1).intersection(set(list2)):\n",
    "        count += 1\n",
    "    elif set(list2).intersection(set(list1)):\n",
    "        count += 1\n",
    "\n",
    "print(count)"
   ]
  }
 ],
 "metadata": {
  "kernelspec": {
   "display_name": "Python 3.10.4 64-bit",
   "language": "python",
   "name": "python3"
  },
  "language_info": {
   "codemirror_mode": {
    "name": "ipython",
    "version": 3
   },
   "file_extension": ".py",
   "mimetype": "text/x-python",
   "name": "python",
   "nbconvert_exporter": "python",
   "pygments_lexer": "ipython3",
   "version": "3.10.4"
  },
  "orig_nbformat": 4,
  "vscode": {
   "interpreter": {
    "hash": "aee8b7b246df8f9039afb4144a1f6fd8d2ca17a180786b69acc140d282b71a49"
   }
  }
 },
 "nbformat": 4,
 "nbformat_minor": 2
}
