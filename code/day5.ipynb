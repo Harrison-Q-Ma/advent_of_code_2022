{
 "cells": [
  {
   "cell_type": "code",
   "execution_count": 5,
   "metadata": {},
   "outputs": [
    {
     "name": "stdout",
     "output_type": "stream",
     "text": [
      "{1: ['R', 'V', 'W', 'P', 'M', 'N', 'G', 'F'], 2: ['Q', 'B', 'S', 'N', 'M', 'C', 'Q', 'L', 'L', 'P', 'S', 'S', 'B', 'G', 'Z', 'Q', 'Z'], 3: ['Q', 'Q', 'T', 'N', 'F', 'B', 'C'], 4: ['M'], 5: ['J'], 6: ['Z', 'D', 'F', 'C'], 7: ['L', 'G', 'Q', 'W', 'H', 'S', 'C', 'V', 'G', 'G', 'H', 'T', 'P', 'P', 'R'], 8: ['N', 'H'], 9: ['Z']}\n"
     ]
    }
   ],
   "source": [
    "#            [Q]     [G]     [M]    \n",
    "#            [B] [S] [V]     [P] [R]\n",
    "#    [T]     [C] [F] [L]     [V] [N]\n",
    "#[Q] [P]     [H] [N] [S]     [W] [C]\n",
    "#[F] [G] [B] [J] [B] [N]     [Z] [L]\n",
    "#[L] [Q] [Q] [Z] [M] [Q] [F] [G] [D]\n",
    "#[S] [Z] [M] [G] [H] [C] [C] [H] [Z]\n",
    "#[R] [N] [S] [T] [P] [P] [W] [Q] [G]\n",
    "# 1   2   3   4   5   6   7   8   9 \n",
    "\n",
    "stack = {\n",
    "    1: ['R','S','L','F','Q'], \n",
    "    2: ['N','Z','Q','G','P','T'],\n",
    "    3: ['S','M','Q','B'],\n",
    "    4: ['T','G','Z','J','H','C','B','Q'], \n",
    "    5: ['P','H','M','B','N','F','S'],\n",
    "    6: ['P','C','Q','N','S','L','V','G'],\n",
    "    7: ['W','C','F'],\n",
    "    8: ['Q','H','G','Z','W','V','P','M'],\n",
    "    9: ['G','Z','D','L','C','N','R']\n",
    "}\n",
    "\n",
    "with open('../input/day5_input.txt') as f:\n",
    "    mylist = f.read().splitlines()  \n",
    "\n",
    "for line in mylist:\n",
    "    # split line by ' ' \n",
    "    lst = line.split(' ')\n",
    "    lst = lst[1::2]\n",
    "    \n",
    "    count = 0\n",
    "    origin = int(lst[1])\n",
    "    destination = int(lst[2])\n",
    "    while count < int(lst[0]):\n",
    "        moved_elem = stack[origin].pop()\n",
    "        stack[destination].append(moved_elem)\n",
    "        count += 1\n",
    "\n",
    "print(stack)"
   ]
  },
  {
   "cell_type": "code",
   "execution_count": 12,
   "metadata": {},
   "outputs": [
    {
     "name": "stdout",
     "output_type": "stream",
     "text": [
      "{1: ['G', 'Q', 'M', 'C', 'F', 'L', 'P', 'J'], 2: ['N', 'Z', 'V', 'W', 'T', 'Q', 'V', 'B', 'H', 'H', 'B', 'N', 'G', 'N', 'C', 'R', 'S'], 3: ['P', 'R', 'G', 'Q', 'G', 'P', 'D'], 4: ['H'], 5: ['Q'], 6: ['T', 'F', 'C', 'M'], 7: ['Q', 'N', 'Z', 'S', 'P', 'M', 'C', 'S', 'B', 'Q', 'L', 'S', 'Z', 'L', 'Z'], 8: ['W', 'G'], 9: ['F']}\n"
     ]
    }
   ],
   "source": [
    "stack = {\n",
    "    1: ['R','S','L','F','Q'], \n",
    "    2: ['N','Z','Q','G','P','T'],\n",
    "    3: ['S','M','Q','B'],\n",
    "    4: ['T','G','Z','J','H','C','B','Q'], \n",
    "    5: ['P','H','M','B','N','F','S'],\n",
    "    6: ['P','C','Q','N','S','L','V','G'],\n",
    "    7: ['W','C','F'],\n",
    "    8: ['Q','H','G','Z','W','V','P','M'],\n",
    "    9: ['G','Z','D','L','C','N','R']\n",
    "}\n",
    "\n",
    "with open('../input/day5_input.txt') as f:\n",
    "    mylist = f.read().splitlines()  \n",
    "\n",
    "for line in mylist:\n",
    "    # split line by ' ' \n",
    "    lst = line.split(' ')\n",
    "    lst = lst[1::2]\n",
    "    \n",
    "    count = 0\n",
    "    origin = int(lst[1])\n",
    "    destination = int(lst[2])\n",
    "    curr = [] \n",
    "    while count < int(lst[0]):\n",
    "        moved_elem = stack[origin].pop()\n",
    "        curr.append(moved_elem)\n",
    "        count += 1\n",
    "    curr.reverse()\n",
    "    stack[destination] = stack[destination] + curr\n",
    "\n",
    "print(stack)"
   ]
  },
  {
   "cell_type": "code",
   "execution_count": null,
   "metadata": {},
   "outputs": [],
   "source": []
  }
 ],
 "metadata": {
  "kernelspec": {
   "display_name": "Python 3.10.4 64-bit",
   "language": "python",
   "name": "python3"
  },
  "language_info": {
   "codemirror_mode": {
    "name": "ipython",
    "version": 3
   },
   "file_extension": ".py",
   "mimetype": "text/x-python",
   "name": "python",
   "nbconvert_exporter": "python",
   "pygments_lexer": "ipython3",
   "version": "3.10.4"
  },
  "orig_nbformat": 4,
  "vscode": {
   "interpreter": {
    "hash": "aee8b7b246df8f9039afb4144a1f6fd8d2ca17a180786b69acc140d282b71a49"
   }
  }
 },
 "nbformat": 4,
 "nbformat_minor": 2
}
